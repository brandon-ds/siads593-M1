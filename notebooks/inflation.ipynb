{
 "cells": [
  {
   "cell_type": "markdown",
   "metadata": {},
   "source": [
    "# Euro Area Inflation Data (YoY)\n",
    "\n",
    "This document provides an overview of the Year-over-Year (YoY) inflation data for the Euro Area, sourced from the Quandl API.\n",
    "\n",
    "## Data Source\n",
    "\n",
    "The data is retrieved using [Quandl](https://www.quandl.com/), specifically from the following URL:\n",
    "[Inflation YoY Euro Area](https://data.nasdaq.com/data/RATEINF/INFLATION_EUR-inflation-yoy-euro-area)\n",
    "\n",
    "## Dataset Information\n",
    "\n",
    "- **Dataset ID:** RATEINF/INFLATION_EUR\n",
    "- **Title:** Inflation YoY - Euro Area\n",
    "- **Description:** This dataset represents the inflation rate in the Euro Area, calculated on a year-over-year basis.\n",
    "- **Params:** Data is collapsed by month\n",
    "\n"
   ]
  },
  {
   "cell_type": "code",
   "execution_count": 20,
   "metadata": {},
   "outputs": [],
   "source": [
    "import quandl\n",
    "import pandas as pd\n",
    "import seaborn as sns\n",
    "from statsmodels.tsa.seasonal import seasonal_decompose\n",
    "import statsmodels.api as sm\n",
    "import matplotlib.pyplot as plt\n"
   ]
  },
  {
   "cell_type": "code",
   "execution_count": 5,
   "metadata": {},
   "outputs": [],
   "source": [
    "# get data using the quandl api \n",
    "inflation_data = quandl.get(\"RATEINF/INFLATION_EUR\", authtoken=\"jQGEvAWnbhDtZsfYcfsH\", collapse=\"monthly\")"
   ]
  },
  {
   "cell_type": "code",
   "execution_count": 6,
   "metadata": {},
   "outputs": [
    {
     "data": {
      "text/html": [
       "<div>\n",
       "<style scoped>\n",
       "    .dataframe tbody tr th:only-of-type {\n",
       "        vertical-align: middle;\n",
       "    }\n",
       "\n",
       "    .dataframe tbody tr th {\n",
       "        vertical-align: top;\n",
       "    }\n",
       "\n",
       "    .dataframe thead th {\n",
       "        text-align: right;\n",
       "    }\n",
       "</style>\n",
       "<table border=\"1\" class=\"dataframe\">\n",
       "  <thead>\n",
       "    <tr style=\"text-align: right;\">\n",
       "      <th></th>\n",
       "      <th>Value</th>\n",
       "    </tr>\n",
       "    <tr>\n",
       "      <th>Date</th>\n",
       "      <th></th>\n",
       "    </tr>\n",
       "  </thead>\n",
       "  <tbody>\n",
       "    <tr>\n",
       "      <th>1991-01-31</th>\n",
       "      <td>3.90</td>\n",
       "    </tr>\n",
       "    <tr>\n",
       "      <th>1991-02-28</th>\n",
       "      <td>4.13</td>\n",
       "    </tr>\n",
       "    <tr>\n",
       "      <th>1991-03-31</th>\n",
       "      <td>3.88</td>\n",
       "    </tr>\n",
       "    <tr>\n",
       "      <th>1991-04-30</th>\n",
       "      <td>3.85</td>\n",
       "    </tr>\n",
       "    <tr>\n",
       "      <th>1991-05-31</th>\n",
       "      <td>4.10</td>\n",
       "    </tr>\n",
       "  </tbody>\n",
       "</table>\n",
       "</div>"
      ],
      "text/plain": [
       "            Value\n",
       "Date             \n",
       "1991-01-31   3.90\n",
       "1991-02-28   4.13\n",
       "1991-03-31   3.88\n",
       "1991-04-30   3.85\n",
       "1991-05-31   4.10"
      ]
     },
     "execution_count": 6,
     "metadata": {},
     "output_type": "execute_result"
    }
   ],
   "source": [
    "inflation_data.head()"
   ]
  },
  {
   "cell_type": "code",
   "execution_count": 8,
   "metadata": {},
   "outputs": [
    {
     "data": {
      "text/html": [
       "<div>\n",
       "<style scoped>\n",
       "    .dataframe tbody tr th:only-of-type {\n",
       "        vertical-align: middle;\n",
       "    }\n",
       "\n",
       "    .dataframe tbody tr th {\n",
       "        vertical-align: top;\n",
       "    }\n",
       "\n",
       "    .dataframe thead th {\n",
       "        text-align: right;\n",
       "    }\n",
       "</style>\n",
       "<table border=\"1\" class=\"dataframe\">\n",
       "  <thead>\n",
       "    <tr style=\"text-align: right;\">\n",
       "      <th></th>\n",
       "      <th>Date</th>\n",
       "      <th>Value</th>\n",
       "    </tr>\n",
       "  </thead>\n",
       "  <tbody>\n",
       "    <tr>\n",
       "      <th>0</th>\n",
       "      <td>1991-01-31</td>\n",
       "      <td>3.90</td>\n",
       "    </tr>\n",
       "    <tr>\n",
       "      <th>1</th>\n",
       "      <td>1991-02-28</td>\n",
       "      <td>4.13</td>\n",
       "    </tr>\n",
       "    <tr>\n",
       "      <th>2</th>\n",
       "      <td>1991-03-31</td>\n",
       "      <td>3.88</td>\n",
       "    </tr>\n",
       "    <tr>\n",
       "      <th>3</th>\n",
       "      <td>1991-04-30</td>\n",
       "      <td>3.85</td>\n",
       "    </tr>\n",
       "    <tr>\n",
       "      <th>4</th>\n",
       "      <td>1991-05-31</td>\n",
       "      <td>4.10</td>\n",
       "    </tr>\n",
       "  </tbody>\n",
       "</table>\n",
       "</div>"
      ],
      "text/plain": [
       "        Date  Value\n",
       "0 1991-01-31   3.90\n",
       "1 1991-02-28   4.13\n",
       "2 1991-03-31   3.88\n",
       "3 1991-04-30   3.85\n",
       "4 1991-05-31   4.10"
      ]
     },
     "execution_count": 8,
     "metadata": {},
     "output_type": "execute_result"
    }
   ],
   "source": [
    "#fix multi header in the df\n",
    "inflation_data = inflation_data.reset_index()\n",
    "inflation_data.head()\n"
   ]
  },
  {
   "cell_type": "code",
   "execution_count": 12,
   "metadata": {},
   "outputs": [
    {
     "data": {
      "text/plain": [
       "Date     0\n",
       "Value    0\n",
       "dtype: int64"
      ]
     },
     "execution_count": 12,
     "metadata": {},
     "output_type": "execute_result"
    }
   ],
   "source": [
    "# Convert the 'Date' column to datetime format\n",
    "inflation_data['Date'] = pd.to_datetime(inflation_data['Date'])\n",
    "# Sort the dataframe by date in ascending order\n",
    "inflation_data.sort_values('Date', inplace=True)\n",
    "inflation_data.reset_index(drop=True, inplace=True)\n",
    "# Check for missing values\n",
    "missing_values = inflation_data.isnull().sum()\n",
    "# Display tany missing values\n",
    "missing_values\n"
   ]
  },
  {
   "cell_type": "code",
   "execution_count": 13,
   "metadata": {},
   "outputs": [
    {
     "data": {
      "text/plain": [
       "count    392.000000\n",
       "mean       2.208163\n",
       "std        1.693129\n",
       "min       -0.650000\n",
       "25%        1.297500\n",
       "50%        2.030000\n",
       "75%        2.610000\n",
       "max       10.620000\n",
       "Name: Value, dtype: float64"
      ]
     },
     "execution_count": 13,
     "metadata": {},
     "output_type": "execute_result"
    }
   ],
   "source": [
    "#Descriptive stats\n",
    "desc_stats = inflation_data['Value'].describe()\n",
    "desc_stats"
   ]
  },
  {
   "cell_type": "code",
   "execution_count": null,
   "metadata": {},
   "outputs": [],
   "source": [
    "import matplotlib.pyplot as plt\n",
    "import seaborn as sns\n",
    "from statsmodels.tsa.seasonal import seasonal_decompose\n",
    "import statsmodels.api as sm\n",
    "\n",
    "# Set plot style\n",
    "sns.set_style(\"whitegrid\")\n",
    "\n",
    "# 2. Visualizations\n",
    "# Time Series Plot\n",
    "plt.figure(figsize=(14, 7))\n",
    "plt.plot(inflation_data['Date'], inflation_data['Value'], label='Inflation Rate')\n",
    "plt.title('Inflation Rate Over Time')\n",
    "plt.xlabel('Date')\n",
    "plt.ylabel('Inflation Rate (%)')\n",
    "plt.legend()\n",
    "plt.show()\n",
    "\n",
    "# Histogram\n",
    "plt.figure(figsize=(14, 7))\n",
    "sns.histplot(inflation_data['Value'], kde=True, bins=30)\n",
    "plt.title('Distribution of Inflation Rates')\n",
    "plt.xlabel('Inflation Rate (%)')\n",
    "plt.ylabel('Frequency')\n",
    "plt.show()\n",
    "\n",
    "# Boxplot\n",
    "plt.figure(figsize=(14, 7))\n",
    "sns.boxplot(x=inflation_data['Value'])\n",
    "plt.title('Boxplot of Inflation Rates')\n",
    "plt.xlabel('Inflation Rate (%)')\n",
    "plt.show()\n",
    "\n",
    "# 3. Seasonal Decomposition\n",
    "# Set the frequency to 12 as the data is monthly\n",
    "freq = 12\n",
    "decomposition = seasonal_decompose(inflation_data['Value'], model='additive', period=freq)\n",
    "\n",
    "# Plot the decomposed time series components\n",
    "fig, ax = plt.subplots(4, 1, figsize=(14, 10))\n",
    "ax[0].plot(decomposition.observed)\n",
    "ax[0].set_title('Original Series')\n",
    "ax[1].plot(decomposition.trend)\n",
    "ax[1].set_title('Trend Component')\n",
    "ax[2].plot(decomposition.seasonal)\n",
    "ax[2].set_title('Seasonal Component')\n",
    "ax[3].plot(decomposition.resid)\n",
    "ax[3].set_title('Residual Component')\n",
    "plt.tight_layout()\n",
    "plt.show()\n",
    "\n",
    "# 4. Autocorrelation Analysis\n",
    "fig, ax = plt.subplots(2, 1, figsize=(14, 7))\n",
    "sm.graphics.tsa.plot_acf(inflation_data['Value'], lags=40, ax=ax[0])\n",
    "sm.graphics.tsa.plot_pacf(inflation_data['Value'], lags=40, ax=ax[1])\n",
    "plt.tight_layout()\n",
    "plt.show()\n",
    "\n",
    "\n"
   ]
  },
  {
   "cell_type": "code",
   "execution_count": null,
   "metadata": {},
   "outputs": [],
   "source": []
  }
 ],
 "metadata": {
  "kernelspec": {
   "display_name": "Python 3",
   "language": "python",
   "name": "python3"
  },
  "language_info": {
   "codemirror_mode": {
    "name": "ipython",
    "version": 3
   },
   "file_extension": ".py",
   "mimetype": "text/x-python",
   "name": "python",
   "nbconvert_exporter": "python",
   "pygments_lexer": "ipython3",
   "version": "3.10.6"
  },
  "orig_nbformat": 4
 },
 "nbformat": 4,
 "nbformat_minor": 2
}
